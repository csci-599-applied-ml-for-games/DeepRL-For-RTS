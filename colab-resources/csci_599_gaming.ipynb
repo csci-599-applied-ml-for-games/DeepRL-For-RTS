{
  "nbformat": 4,
  "nbformat_minor": 0,
  "metadata": {
    "colab": {
      "name": "csci-599-gaming.ipynb",
      "version": "0.3.2",
      "provenance": [],
      "collapsed_sections": [],
      "include_colab_link": true
    },
    "kernelspec": {
      "name": "python3",
      "display_name": "Python 3"
    },
    "accelerator": "GPU"
  },
  "cells": [
    {
      "cell_type": "markdown",
      "metadata": {
        "id": "view-in-github",
        "colab_type": "text"
      },
      "source": [
        "<a href=\"https://colab.research.google.com/github/maswin/csci-599-gaming-ELF/blob/master/colab-resources/csci_599_gaming.ipynb\" target=\"_parent\"><img src=\"https://colab.research.google.com/assets/colab-badge.svg\" alt=\"Open In Colab\"/></a>"
      ]
    },
    {
      "cell_type": "code",
      "metadata": {
        "id": "9xTjHZe_snev",
        "colab_type": "code",
        "colab": {
          "base_uri": "https://localhost:8080/",
          "height": 1000
        },
        "outputId": "bc335518-a75a-426a-da2f-c57ef278a8d4"
      },
      "source": [
        "from google.colab import drive\n",
        "# drive.mount('/content/gdrive/')\n",
        "%cd /content/gdrive/My Drive/csci-599-gaming/project/ELF\n",
        "%cd rts/\n",
        "# !rm -rf build/\n",
        "# !mkdir build\n",
        "%cd build/\n",
        "python_location = !which python3\n",
        "print(python_location[0])\n",
        "# !cmake .. -DPYTHON_EXECUTABLE=/usr /bin/python3 -DGAME_DIR=../game_MC\n",
        "# !make\n",
        "\n",
        "# !pip install --upgrade pytorch==0.2.0 -c soumith \n",
        "\n",
        "# !cat /usr/local/cuda/version.txt\n",
        "# !nvcc --version\n",
        "# !wget https://download.pytorch.org/whl/cu75/torch-0.2.0.post3-cp36-cp36m-manylinux1_x86_64.whl\n",
        "# !pip install torch-0.2.0.post3-cp36-cp36m-manylinux1_x86_64.whl\n",
        "import torch\n",
        "print(torch.__version__)\n",
        "% cd ../..\n",
        "!sh ./train_minirts.sh --gpu 0\n"
      ],
      "execution_count": 0,
      "outputs": [
        {
          "output_type": "stream",
          "text": [
            "Drive already mounted at /content/gdrive/; to attempt to forcibly remount, call drive.mount(\"/content/gdrive/\", force_remount=True).\n",
            "/content/gdrive/My Drive/csci-599-gaming/project/ELF\n",
            "/content/gdrive/My Drive/csci-599-gaming/project/ELF/rts\n",
            "/content/gdrive/My Drive/csci-599-gaming/project/ELF/rts/build\n",
            "/usr/bin/python3\n",
            "0.2.0_3\n",
            "/content/gdrive/My Drive/csci-599-gaming/project/ELF\n",
            "Warning: argument ValueMatcher/grad_clip_norm cannot be added. Skipped.\n",
            "PID: 5289\n",
            "========== Args ============\n",
            "Loader: handicap_level=0,players=\"type=AI_NN,fs=50,args=backup/AI_SIMPLE|start/500|decay/0.99;type=AI_SIMPLE,fs=20\",max_tick=30000,shuffle_player=False,num_frames_in_state=1,max_unit_cmd=1,seed=0,actor_only=False,model_no_spatial=False,save_replay_prefix=None,output_file=None,cmd_dumper_prefix=None,gpu=0,use_unit_action=False,disable_time_decay=False,use_prev_units=False,attach_complete_info=False,feature_type=\"ORIGINAL\"\n",
            "ContextArgs: num_games=1024,batchsize=128,game_multi=None,T=20,eval=False,wait_per_group=False,num_collectors=0,verbose_comm=False,verbose_collector=False,mcts_threads=0,mcts_rollout_per_thread=1,mcts_verbose=False,mcts_save_tree_filename=\"\",mcts_verbose_time=False,mcts_use_prior=False,mcts_pseudo_games=0,mcts_pick_method=\"most_visited\"\n",
            "MoreLabels: additional_labels=\"id,last_terminal\"\n",
            "ActorCritic: \n",
            "PolicyGradient: entropy_ratio=0.01,grad_clip_norm=None,min_prob=1e-06,ratio_clamp=10,policy_action_nodes=\"pi,a\"\n",
            "DiscountedReward: discount=0.99\n",
            "ValueMatcher: grad_clip_norm=None,value_node=\"V\"\n",
            "Sampler: sample_policy=\"epsilon-greedy\",greedy=False,epsilon=0.0,sample_nodes=\"pi,a\"\n",
            "ModelLoader: load=None,onload=None,omit_keys=None,arch=\"ccpccp;-,64,64,64,-\"\n",
            "ModelInterface: opt_method=\"adam\",lr=0.001,adam_eps=0.001\n",
            "Trainer: freq_update=1\n",
            "Evaluator: keys_in_reply=\"V\"\n",
            "Stats: trainer_stats=\"winrate\"\n",
            "ModelSaver: record_dir=\"./record\",save_prefix=\"save\",save_dir=\"./\",latest_symlink=\"latest\"\n",
            "SingleProcessRun: num_minibatch=5000,num_episode=10000,tqdm=True\n",
            "========== End of Args ============\n",
            "Options:\n",
            "Map: 20 by 20\n",
            "Handicap: 0\n",
            "Max tick: 30000\n",
            "Max #Unit Cmd: 1\n",
            "Seed: 0\n",
            "Shuffled: False\n",
            "[name=][fs=50][type=AI_NN][FoW=True][#frames_in_state=1][args=backup/AI_SIMPLE|start/500|decay/0.99]\n",
            "[name=][fs=20][type=AI_SIMPLE][FoW=True][#frames_in_state=1]\n",
            "Output_prompt_filename: \"\"\n",
            "Cmd_dumper_prefix: \"\"\n",
            "Save_replay_prefix: \"\"\n",
            "ContextOptions:\n",
            "#Game: 1024\n",
            "#Max_thread: 0\n",
            "#Collectors: 0\n",
            "T: 20\n",
            "Wait per group: False\n",
            "Maximal #moves (0 = no constraint): 0\n",
            "#Threads: 0\n",
            "#Rollout per thread: 1\n",
            "Verbose: False, Verbose_time: False\n",
            "Use prior: False\n",
            "Persistent tree: False\n",
            "#Pseudo game: 0\n",
            "Pick method: most_visited\n",
            "\n",
            "Use time decay: True\n",
            "Save prev seen units: False\n",
            "Attach complete info: False\n",
            "\n",
            "ORIGINAL\n",
            "Version:  1f790173095cd910976d9f651b80beb872ec5d12_GIT_UNSTAGED\n",
            "Num Actions:  9\n",
            "Num unittype:  6\n",
            "num planes:  22\n",
            "#recv_thread = 4\n",
            "Group 0: \n",
            "  Collector[0] Batchsize: 128 Info: [gid=0][T=1][name=\"\"]\n",
            "  Collector[1] Batchsize: 128 Info: [gid=1][T=1][name=\"\"]\n",
            "  Collector[2] Batchsize: 128 Info: [gid=2][T=1][name=\"\"]\n",
            "  Collector[3] Batchsize: 128 Info: [gid=3][T=1][name=\"\"]\n",
            "Group 1: \n",
            "  Collector[4] Batchsize: 128 Info: [gid=4][T=20][name=\"\"]\n",
            "  Collector[5] Batchsize: 128 Info: [gid=5][T=20][name=\"\"]\n",
            "  Collector[6] Batchsize: 128 Info: [gid=6][T=20][name=\"\"]\n",
            "  Collector[7] Batchsize: 128 Info: [gid=7][T=20][name=\"\"]\n",
            "\n",
            " 76%|██████▉  | 3825/5000 [19:18<06:32,  3.00it/s]"
          ],
          "name": "stdout"
        }
      ]
    },
    {
      "cell_type": "code",
      "metadata": {
        "id": "jflolZwPTBVa",
        "colab_type": "code",
        "colab": {}
      },
      "source": [
        ""
      ],
      "execution_count": 0,
      "outputs": []
    }
  ]
}