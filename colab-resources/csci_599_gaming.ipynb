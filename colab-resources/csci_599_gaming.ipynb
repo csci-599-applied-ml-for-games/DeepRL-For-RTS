{
  "nbformat": 4,
  "nbformat_minor": 0,
  "metadata": {
    "colab": {
      "name": "csci-599-gaming.ipynb",
      "provenance": [],
      "collapsed_sections": [],
      "include_colab_link": true
    },
    "kernelspec": {
      "name": "python3",
      "display_name": "Python 3"
    },
    "accelerator": "GPU"
  },
  "cells": [
    {
      "cell_type": "markdown",
      "metadata": {
        "id": "view-in-github",
        "colab_type": "text"
      },
      "source": [
        "<a href=\"https://colab.research.google.com/github/maswin/csci-599-gaming-ELF/blob/master/colab-resources/csci_599_gaming.ipynb\" target=\"_parent\"><img src=\"https://colab.research.google.com/assets/colab-badge.svg\" alt=\"Open In Colab\"/></a>"
      ]
    },
    {
      "cell_type": "code",
      "metadata": {
        "id": "9xTjHZe_snev",
        "colab_type": "code",
        "colab": {}
      },
      "source": [
        "from google.colab import drive\n",
        "# Mount once per instance\n",
        "drive.mount('/content/gdrive/')\n",
        "# Place it in same folder in your google drive too\n",
        "%cd /content/gdrive/My Drive/csci-599-gaming/project/ELF\n"
      ],
      "execution_count": 0,
      "outputs": []
    },
    {
      "cell_type": "code",
      "metadata": {
        "id": "jflolZwPTBVa",
        "colab_type": "code",
        "colab": {}
      },
      "source": [
        "# Run once every time a new instance is created or if it throws mini-rts python module not found\n",
        "%cd rts/\n",
        "!rm -rf build/\n",
        "!mkdir build\n",
        "%cd build/\n",
        "python_location = !which python3\n",
        "print(python_location[0])\n",
        "!cmake .. -DPYTHON_EXECUTABLE=/usr /bin/python3 -DGAME_DIR=../game_MC\n",
        "!make\n",
        "%cd ../.."
      ],
      "execution_count": 0,
      "outputs": []
    },
    {
      "cell_type": "code",
      "metadata": {
        "id": "pRInu1cGedv9",
        "colab_type": "code",
        "colab": {}
      },
      "source": [
        "# Check versions. PyTorch should be 0.2.0\n",
        "!cat /usr/local/cuda/version.txt\n",
        "# !nvcc --version\n",
        "import torch\n",
        "print(torch.__version__)"
      ],
      "execution_count": 0,
      "outputs": []
    },
    {
      "cell_type": "code",
      "metadata": {
        "id": "jgnOekjXewn1",
        "colab_type": "code",
        "colab": {}
      },
      "source": [
        "# If pyTorch version doesn't match, run this\n",
        "!wget https://download.pytorch.org/whl/cu75/torch-0.2.0.post3-cp36-cp36m-manylinux1_x86_64.whl\n",
        "!pip install torch-0.2.0.post3-cp36-cp36m-manylinux1_x86_64.whl"
      ],
      "execution_count": 0,
      "outputs": []
    },
    {
      "cell_type": "code",
      "metadata": {
        "id": "3Ky17UdAfHae",
        "colab_type": "code",
        "colab": {}
      },
      "source": [
        "# Run training \n",
        "!sh ./train_minirts.sh --gpu 0\n"
      ],
      "execution_count": 0,
      "outputs": []
    }
  ]
}